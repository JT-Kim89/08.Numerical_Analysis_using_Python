{
 "cells": [
  {
   "cell_type": "code",
   "execution_count": 6,
   "id": "32266cbf-28eb-4700-9ec2-b35b7ebfddb6",
   "metadata": {
    "scrolled": true
   },
   "outputs": [
    {
     "name": "stdout",
     "output_type": "stream",
     "text": [
      "피보나치 수열 수치해 a[15] =   610\n"
     ]
    }
   ],
   "source": [
    "#코드1.1: 피보나치 수치해\n",
    "\n",
    "import numpy as np\n",
    "\n",
    "def Fibonacci(n):\n",
    "    an = np.zeros(n+1, dtype=int)\n",
    "    an[1] = 1\n",
    "\n",
    "    if (n <= 1):\n",
    "        return an[n]\n",
    "\n",
    "    for i in range(2, n+1):\n",
    "        an[i] = an[i-1] + an[i-2]\n",
    "\n",
    "    return an[n]\n",
    "\n",
    "if __name__ == '__main__':\n",
    "    fn = Fibonacci(15)\n",
    "    print(\"피보나치 수열 수치해 a[{0:2d}] = {1:5d}\".format(15, fn))\n"
   ]
  },
  {
   "cell_type": "code",
   "execution_count": 9,
   "id": "e36fa988-8b7b-4ce7-b602-e89038c01f7d",
   "metadata": {},
   "outputs": [
    {
     "name": "stdout",
     "output_type": "stream",
     "text": [
      "피보나치 수열 해석해 a[15] =   610\n"
     ]
    }
   ],
   "source": [
    "#코드1.2: 피보나치 해석해\n",
    "#수치해와 비교\n",
    "\n",
    "import math\n",
    "\n",
    "def exact(n):\n",
    "    gb = (1.0 + math.sqrt(5.0)) / 2.0  #황금비\n",
    "    fn = (math.pow(gb, n) - math.pow(1.0 - gb, n)) / math.sqrt(5)\n",
    "    return int(fn)\n",
    "\n",
    "if __name__ == '__main__':\n",
    "    fn2 = exact(15)\n",
    "    print(\"피보나치 수열 해석해 a[{0:2d}] = {1:5d}\".format(15,fn2))\n"
   ]
  }
 ],
 "metadata": {
  "kernelspec": {
   "display_name": "Python 3 (ipykernel)",
   "language": "python",
   "name": "python3"
  },
  "language_info": {
   "codemirror_mode": {
    "name": "ipython",
    "version": 3
   },
   "file_extension": ".py",
   "mimetype": "text/x-python",
   "name": "python",
   "nbconvert_exporter": "python",
   "pygments_lexer": "ipython3",
   "version": "3.11.7"
  }
 },
 "nbformat": 4,
 "nbformat_minor": 5
}
