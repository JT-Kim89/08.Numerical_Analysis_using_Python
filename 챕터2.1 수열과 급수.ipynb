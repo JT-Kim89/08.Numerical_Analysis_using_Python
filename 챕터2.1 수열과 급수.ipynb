{
 "cells": [
  {
   "cell_type": "code",
   "execution_count": 12,
   "id": "e8f73903-44c9-4f9d-804f-eddb640e120b",
   "metadata": {},
   "outputs": [
    {
     "name": "stdout",
     "output_type": "stream",
     "text": [
      "납입액:  100000 원\n",
      "연이율:  0.05\n",
      "기간:  10 년\n",
      "원리합계 :  1320678 원\n"
     ]
    }
   ],
   "source": [
    "#코드2.1: 정기적금\n",
    "#매년 적금 납입액 pay를 연이율 rate로 n년간 적금했을 때, n년 후의 원리합계\n",
    "\n",
    "import math\n",
    "import numpy as np\n",
    "\n",
    "def deposit(pay, rate, nyear):\n",
    "    rt = 1.0 + rate\n",
    "    sn = int(pay * rt * (math.pow(rt, nyear) - 1.0) / rate)\n",
    "    return sn\n",
    "\n",
    "if __name__ == '__main__':\n",
    "    a = 100000\n",
    "    r = 0.05\n",
    "    n = 10\n",
    "    print(\"납입액: \", a, \"원\")\n",
    "    print(\"연이율: \", r)\n",
    "    print(\"기간: \", n, \"년\")\n",
    "\n",
    "    sn = deposit(a, r, n)\n",
    "    print(\"원리합계 : \", sn, \"원\")\n",
    "    "
   ]
  },
  {
   "cell_type": "code",
   "execution_count": 13,
   "id": "cb2049ed-1daa-4aac-8f9d-2a3de7b9dceb",
   "metadata": {},
   "outputs": [
    {
     "name": "stdout",
     "output_type": "stream",
     "text": [
      "항번호        항            합계\n",
      "  0      1.00000000      1.00000000\n",
      "  1      1.00000000      2.00000000\n",
      "  2      0.50000000      2.50000000\n",
      "  3      0.16666667      2.66666667\n",
      "  4      0.04166667      2.70833333\n",
      "  5      0.00833333      2.71666667\n",
      "  6      0.00138889      2.71805556\n",
      "  7      0.00019841      2.71825397\n",
      "  8      0.00002480      2.71827877\n",
      "  9      0.00000276      2.71828153\n",
      " 10      0.00000028      2.71828180\n",
      " 11      0.00000003      2.71828183\n"
     ]
    }
   ],
   "source": [
    "#코드2.2: 지수함수 계산 (2.718...)\n",
    "#컴퓨터에서는 무한히 계산할 수 없으므로, 계산된 항이 어떤 특정한 수보다 작아졌을 때 계산을 중단한다.\n",
    "\n",
    "def calcExp(x, err = 1.0E-7):\n",
    "    nMax = 100\n",
    "    exp = 0.0\n",
    "    np = 1.0\n",
    "    nf = 1.0\n",
    "    term = np / nf\n",
    "    exp = term\n",
    "\n",
    "    print(\"항번호        항            합계\")\n",
    "    print(\"{0:3d}    {1:12.8f}    {2:12.8f}\".format(0, term, exp))\n",
    "\n",
    "    for i in range(1, nMax):\n",
    "        np = np * x    # 분모 멱승 계산\n",
    "        nf = nf * i    # 분자 계승 계산\n",
    "        term = np / nf  # i번째 항\n",
    "        exp = exp + term\n",
    "        print(\"{0:3d}    {1:12.8f}    {2:12.8f}\".format(i, term, exp))\n",
    "        if (term <= err):\n",
    "            break\n",
    "\n",
    "if __name__ == '__main__':\n",
    "    calcExp(1.0)"
   ]
  }
 ],
 "metadata": {
  "kernelspec": {
   "display_name": "Python 3 (ipykernel)",
   "language": "python",
   "name": "python3"
  },
  "language_info": {
   "codemirror_mode": {
    "name": "ipython",
    "version": 3
   },
   "file_extension": ".py",
   "mimetype": "text/x-python",
   "name": "python",
   "nbconvert_exporter": "python",
   "pygments_lexer": "ipython3",
   "version": "3.11.7"
  }
 },
 "nbformat": 4,
 "nbformat_minor": 5
}
